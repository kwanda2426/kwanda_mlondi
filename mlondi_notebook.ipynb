{
 "cells": [
  {
   "cell_type": "markdown",
   "id": "a742d492",
   "metadata": {},
   "source": [
    "# Stock Market Analysis \n",
    "\n",
    "<img src=\"https://img.freepik.com/free-vector/gradient-stock-market-concept_23-2149166910.jpg\" width = 800px>"
   ]
  },
  {
   "cell_type": "markdown",
   "id": "4d8a9987",
   "metadata": {},
   "source": [
    "# Introduction"
   ]
  },
  {
   "cell_type": "markdown",
   "id": "d78aad33",
   "metadata": {},
   "source": [
    "Success in any financial market requires one to identify solid investments. When a stock or derivative is undervalued, it makes sense to buy. If it's overvalued, perhaps it's time to sell. While these finance decisions were historically made manually by professionals, technology has ushered in new opportunities for retail investors. Data scientists, specifically, may be interested to explore quantitative trading, where decisions are executed programmatically based on predictions from analysis and trained models.\n",
    "\n",
    "Stocks can be a valuable part of your investment portfolio. Owning stocks in different companies can help you build your savings, protect your money from inflation and taxes, and maximize income from your investments. It's important to know that there are risks when investing in the stock market.\n",
    "\n",
    "Historically, long-term equity returns have been better than returns from cash or fixed-income investments such as bonds. However, stock prices tend to rise and fall over time. Investors may want to consider a long-term perspective for their equity portfolio because these stock-market fluctuations do tend to smooth out over longer periods of time.\n",
    "\n",
    "Taxes and inflation can impact your wealth. Equity investments can give investors better tax treatment over the long term, which can help slow or prevent the negative effects of both taxes and inflation.\n",
    "Some companies pay shareholders dividends or special distributions. These payments can provide you with regular investment income and enhance your return.\n",
    "\n",
    "### S&P 500 - Microsoft\n",
    "\n",
    "As one of the most diversified companies, Microsoft (MSFT -0.65%) has strong positions in operating systems, video games, cloud computing, productivity software, and even social media with LinkedIn. This year, the company will also expand its digital advertising business through a partnership with Netflix. \n",
    "\n",
    "Microsoft's varied revenue streams proved their strength in 2022, with segments less affected by economic challenges able to maintain earnings growth despite declines in specific markets. The company's stock is down 22% year over year. However, its growth of 157% over the last five years proves it is a reliable long-term investment.\n",
    "\n",
    "In mid-January, news broke that Microsoft is considering investing 10USD billion in OpenAI, an artificial intelligence (AI) company best known for its AI chatbot ChatGPT. The deal would expand Microsoft's stake in the company after it initially invested 1USD billion in 2019. Microsoft has a share in the company and now ChatGPT has a paid for service to access the Chatbot. This will increase it's revenue. \n",
    "\n",
    "### S&P 500 - Amazon\n",
    "\n",
    "Brand Finance recognized Amazon as the most valuable brand in the world in 2023. That distinction highlights the tremendous popularity its marketplace enjoys among consumers. Indeed, Amazon draws more visitors each month than any other digital shopping destination, and it accounted for 38% of online retail sales in North America and Western Europe last year. Its Prime membership program creates even more value for consumers, and its massive logistics network adds value for merchants, accelerating the network effects inherent to its business model.\n",
    "\n",
    "Looking ahead, Ameco Research estimates that global e-commerce sales will grow at 13.6% annually to reach 15USD trillion by 2030. Amazon is exceptionally well positioned to benefit from that trend.\n",
    "\n",
    "Amazon Web Services (AWS) was the first hyperscale public cloud, and it still dominates the market for cloud infrastructure and platform services (CIPS). AWS accounted for 32% of CIPS spending in the fourth quarter last year, putting it nine percentage points ahead of the runner-up Microsoft Azure.\n",
    "\n",
    "### Cryptocurrency - Bitcoin\n",
    "\n",
    "The blockchain technology underlying bitcoin and other cryptocurrencies has been hailed as a potential gamechanger for a large number of industries, from shipping and supply chains to banking and healthcare. By removing intermediaries and trusted actors from computer networks, distributed ledgers can facilitate new types of economic activity that were not possible before.\n",
    "\n",
    "This potential makes for an attractive investment to people who believe in the future of digital currencies. For people who believe in that promise, investing in cryptocurrency represents a way to earn high returns while supporting the future of technology.\n",
    "\n",
    "Another common reason to invest in cryptocurrency is the desire for a reliable, long-term store of value. Unlike fiat money, most cryptocurrencies have a limited supply, capped by mathematical algorithms.This makes it impossible for any political body or government agency to dilute their value through inflation. Moreover, due to the cryptographic nature of cryptocurrencies, it is impossible for a government body to tax or confiscate tokens without the cooperation of the owner.\n",
    "\n",
    "Bitcoin has grabbed the attention of the world over the last decade, as it could represent a new form of decentralized money. The ability to have a trustless payment system without a third party intermediary has many people betting on its future being bright.Bitcoin is the fastest growing crypto currency in the world. This makes Bitcoin an important cryptocurrency and a good investment option for you to make for the market.\n",
    "\n",
    "\n",
    "### Inflation\n",
    "\n",
    "Inflation occurs when the supply of money increases relative to the level of productive output in the economy. Prices tend to rise because more dollars are chasing relatively fewer goods. Another way of stating this phenomenon is that the purchasing power of each money unit declines.\n",
    "\n",
    "This means that inflation can have a huge impact on the way we save and invest our money: it can either reduce the value of your investment portfolio over time, or you could possibly use it to your advantage to help your investments grow.\n"
   ]
  },
  {
   "cell_type": "markdown",
   "id": "6187fd48",
   "metadata": {},
   "source": [
    "# **IMPORTING PACKAGES**"
   ]
  },
  {
   "cell_type": "code",
   "execution_count": 59,
   "id": "b14e2f41",
   "metadata": {},
   "outputs": [],
   "source": [
    "# packages to install before running notebook\n",
    "#!pip install -q yfinance\n",
    "#!pip install pandas-datareader\n",
    "#!pip install yahoo-finance"
   ]
  },
  {
   "cell_type": "code",
   "execution_count": 60,
   "id": "77c10384",
   "metadata": {},
   "outputs": [],
   "source": [
    "# for data access and mannipulation\n",
    "import requests\n",
    "import pandas as pd\n",
    "import numpy as np\n",
    "\n",
    "# visualizations\n",
    "import plotly.express as px\n",
    "import plotly.graph_objects as go\n",
    "import matplotlib.pyplot as plt\n",
    "import seaborn as sns\n",
    "# saving my model\n",
    "import pickle\n",
    "\n",
    "#ignoring warnings\n",
    "import warnings\n",
    "warnings.filterwarnings('ignore')\n",
    "%matplotlib inline\n",
    "\n",
    "#sns.set_style('whitegrid')\n",
    "#plt.style.use(\"fivethirtyeight\")\n",
    "#%matplotlib inline\n",
    "\n",
    "# For reading stock data from yahoo\n",
    "from pandas_datareader.data import DataReader\n",
    "import yfinance as yf\n",
    "from yahoo_finance import Share\n",
    "from yahoo_finance import Currency\n",
    "from pandas_datareader import data as pdr\n",
    "yf.pdr_override()\n",
    "\n",
    "# For time stamps\n",
    "from datetime import datetime"
   ]
  },
  {
   "cell_type": "markdown",
   "id": "140eea21",
   "metadata": {},
   "source": [
    "# LOADING DATA"
   ]
  },
  {
   "cell_type": "markdown",
   "id": "30a6823d",
   "metadata": {},
   "source": [
    "Data is extracted from different sources. Yahoo Finance is a rich resource of financial market data and tools to find compelling investments.We use Yahoo Finance API for Microsoft and Amazon Data, and Alpha Vantage API for bitcoin data and inflation data."
   ]
  },
  {
   "cell_type": "markdown",
   "id": "bbc2b403",
   "metadata": {},
   "source": [
    "### MICROSOFT AND AMAZON DATA"
   ]
  },
  {
   "cell_type": "markdown",
   "id": "2ac84ab3",
   "metadata": {},
   "source": [
    "We start from 2029 before the pandemic to see how the market was performing and how the pandemic shaped that moving forward. This will help in decision making to see how sensitive these are/were to the pandemic. "
   ]
  },
  {
   "cell_type": "code",
   "execution_count": 67,
   "id": "5ee37e30",
   "metadata": {},
   "outputs": [],
   "source": [
    "# we specify our start and end date\n",
    "end = datetime.now()\n",
    "start = datetime(2019, 1, 1)"
   ]
  },
  {
   "cell_type": "code",
   "execution_count": 68,
   "id": "430a3fe1",
   "metadata": {},
   "outputs": [
    {
     "name": "stdout",
     "output_type": "stream",
     "text": [
      "[*********************100%***********************]  1 of 1 completed\n",
      "[*********************100%***********************]  1 of 1 completed\n"
     ]
    }
   ],
   "source": [
    "#Amazon data\n",
    "amazon_df = yf.download('AMZN', start, end)\n",
    "amazon_df = amazon_df.reset_index(drop = False)\n",
    "amazon_df['company_name'] = ['AMAZON' for i in range(len(amazon_df))]\n",
    "\n",
    "#Microsoft data\n",
    "msft_df = yf.download('MSFT', start, end)\n",
    "msft_df = msft_df.reset_index(drop = False)\n",
    "msft_df['company_name'] = ['MSFT' for i in range(len(amazon_df))]\n"
   ]
  },
  {
   "cell_type": "code",
   "execution_count": 69,
   "id": "8b669dbc",
   "metadata": {},
   "outputs": [
    {
     "data": {
      "text/html": [
       "<div>\n",
       "<style scoped>\n",
       "    .dataframe tbody tr th:only-of-type {\n",
       "        vertical-align: middle;\n",
       "    }\n",
       "\n",
       "    .dataframe tbody tr th {\n",
       "        vertical-align: top;\n",
       "    }\n",
       "\n",
       "    .dataframe thead th {\n",
       "        text-align: right;\n",
       "    }\n",
       "</style>\n",
       "<table border=\"1\" class=\"dataframe\">\n",
       "  <thead>\n",
       "    <tr style=\"text-align: right;\">\n",
       "      <th></th>\n",
       "      <th>Date</th>\n",
       "      <th>Open</th>\n",
       "      <th>High</th>\n",
       "      <th>Low</th>\n",
       "      <th>Close</th>\n",
       "      <th>Adj Close</th>\n",
       "      <th>Volume</th>\n",
       "      <th>company_name</th>\n",
       "    </tr>\n",
       "  </thead>\n",
       "  <tbody>\n",
       "    <tr>\n",
       "      <th>0</th>\n",
       "      <td>2019-01-02</td>\n",
       "      <td>99.550003</td>\n",
       "      <td>101.750000</td>\n",
       "      <td>98.940002</td>\n",
       "      <td>101.120003</td>\n",
       "      <td>96.632645</td>\n",
       "      <td>35329300</td>\n",
       "      <td>MSFT</td>\n",
       "    </tr>\n",
       "    <tr>\n",
       "      <th>1</th>\n",
       "      <td>2019-01-03</td>\n",
       "      <td>100.099998</td>\n",
       "      <td>100.190002</td>\n",
       "      <td>97.199997</td>\n",
       "      <td>97.400002</td>\n",
       "      <td>93.077736</td>\n",
       "      <td>42579100</td>\n",
       "      <td>MSFT</td>\n",
       "    </tr>\n",
       "    <tr>\n",
       "      <th>2</th>\n",
       "      <td>2019-01-04</td>\n",
       "      <td>99.720001</td>\n",
       "      <td>102.510002</td>\n",
       "      <td>98.930000</td>\n",
       "      <td>101.930000</td>\n",
       "      <td>97.406715</td>\n",
       "      <td>44060600</td>\n",
       "      <td>MSFT</td>\n",
       "    </tr>\n",
       "    <tr>\n",
       "      <th>3</th>\n",
       "      <td>2019-01-07</td>\n",
       "      <td>101.639999</td>\n",
       "      <td>103.269997</td>\n",
       "      <td>100.980003</td>\n",
       "      <td>102.059998</td>\n",
       "      <td>97.530945</td>\n",
       "      <td>35656100</td>\n",
       "      <td>MSFT</td>\n",
       "    </tr>\n",
       "    <tr>\n",
       "      <th>4</th>\n",
       "      <td>2019-01-08</td>\n",
       "      <td>103.040001</td>\n",
       "      <td>103.970001</td>\n",
       "      <td>101.709999</td>\n",
       "      <td>102.800003</td>\n",
       "      <td>98.238106</td>\n",
       "      <td>31514400</td>\n",
       "      <td>MSFT</td>\n",
       "    </tr>\n",
       "  </tbody>\n",
       "</table>\n",
       "</div>"
      ],
      "text/plain": [
       "        Date        Open        High         Low       Close  Adj Close   \n",
       "0 2019-01-02   99.550003  101.750000   98.940002  101.120003  96.632645  \\\n",
       "1 2019-01-03  100.099998  100.190002   97.199997   97.400002  93.077736   \n",
       "2 2019-01-04   99.720001  102.510002   98.930000  101.930000  97.406715   \n",
       "3 2019-01-07  101.639999  103.269997  100.980003  102.059998  97.530945   \n",
       "4 2019-01-08  103.040001  103.970001  101.709999  102.800003  98.238106   \n",
       "\n",
       "     Volume company_name  \n",
       "0  35329300         MSFT  \n",
       "1  42579100         MSFT  \n",
       "2  44060600         MSFT  \n",
       "3  35656100         MSFT  \n",
       "4  31514400         MSFT  "
      ]
     },
     "execution_count": 69,
     "metadata": {},
     "output_type": "execute_result"
    }
   ],
   "source": [
    "#How the data looks\n",
    "msft_df.head()"
   ]
  },
  {
   "cell_type": "markdown",
   "id": "1e16b99e",
   "metadata": {},
   "source": [
    "### BITCOIN"
   ]
  },
  {
   "cell_type": "code",
   "execution_count": 49,
   "id": "7a3e654d",
   "metadata": {},
   "outputs": [],
   "source": [
    "# Api, using api ke\n",
    "url = 'https://www.alphavantage.co/query?function=DIGITAL_CURRENCY_MONTHLY&symbol=BTC&market=ZAR&apikey=4TQR4OP76PGIASRO'\n",
    "r = requests.get(url)\n",
    "data = r.json()\n",
    "\n",
    "# convert data to pandas df\n",
    "bit_df = pd.DataFrame.from_dict(data['Time Series (Digital Currency Monthly)'], orient=\"index\")"
   ]
  },
  {
   "cell_type": "code",
   "execution_count": 50,
   "id": "27eb4137",
   "metadata": {},
   "outputs": [
    {
     "name": "stdout",
     "output_type": "stream",
     "text": [
      "<class 'pandas.core.frame.DataFrame'>\n",
      "Index: 33 entries, 2023-05-09 to 2020-09-30\n",
      "Data columns (total 10 columns):\n",
      " #   Column               Non-Null Count  Dtype \n",
      "---  ------               --------------  ----- \n",
      " 0   1a. open (ZAR)       33 non-null     object\n",
      " 1   1b. open (USD)       33 non-null     object\n",
      " 2   2a. high (ZAR)       33 non-null     object\n",
      " 3   2b. high (USD)       33 non-null     object\n",
      " 4   3a. low (ZAR)        33 non-null     object\n",
      " 5   3b. low (USD)        33 non-null     object\n",
      " 6   4a. close (ZAR)      33 non-null     object\n",
      " 7   4b. close (USD)      33 non-null     object\n",
      " 8   5. volume            33 non-null     object\n",
      " 9   6. market cap (USD)  33 non-null     object\n",
      "dtypes: object(10)\n",
      "memory usage: 2.8+ KB\n"
     ]
    }
   ],
   "source": [
    "bit_df.info()"
   ]
  },
  {
   "cell_type": "markdown",
   "id": "94b69d14",
   "metadata": {},
   "source": [
    "### INFLATION"
   ]
  },
  {
   "cell_type": "code",
   "execution_count": 56,
   "id": "87e24333",
   "metadata": {},
   "outputs": [],
   "source": [
    "# inflation\n",
    "url = 'https://www.alphavantage.co/query?function=INFLATION&apikey=4TQR4OP76PGIASRO'\n",
    "r = requests.get(url)\n",
    "data = r.json()\n",
    "#print(data)\n",
    "#pd.DataFrame.from_dict(data['name'], orient=\"index\")\n",
    "inflation_df = pd.DataFrame(data['data'])"
   ]
  },
  {
   "cell_type": "code",
   "execution_count": 57,
   "id": "f5a96c28",
   "metadata": {},
   "outputs": [
    {
     "data": {
      "text/html": [
       "<div>\n",
       "<style scoped>\n",
       "    .dataframe tbody tr th:only-of-type {\n",
       "        vertical-align: middle;\n",
       "    }\n",
       "\n",
       "    .dataframe tbody tr th {\n",
       "        vertical-align: top;\n",
       "    }\n",
       "\n",
       "    .dataframe thead th {\n",
       "        text-align: right;\n",
       "    }\n",
       "</style>\n",
       "<table border=\"1\" class=\"dataframe\">\n",
       "  <thead>\n",
       "    <tr style=\"text-align: right;\">\n",
       "      <th></th>\n",
       "      <th>date</th>\n",
       "      <th>value</th>\n",
       "    </tr>\n",
       "  </thead>\n",
       "  <tbody>\n",
       "    <tr>\n",
       "      <th>0</th>\n",
       "      <td>2021-01-01</td>\n",
       "      <td>4.69785886363739</td>\n",
       "    </tr>\n",
       "    <tr>\n",
       "      <th>1</th>\n",
       "      <td>2020-01-01</td>\n",
       "      <td>1.23358439630637</td>\n",
       "    </tr>\n",
       "    <tr>\n",
       "      <th>2</th>\n",
       "      <td>2019-01-01</td>\n",
       "      <td>1.81221007526015</td>\n",
       "    </tr>\n",
       "    <tr>\n",
       "      <th>3</th>\n",
       "      <td>2018-01-01</td>\n",
       "      <td>2.44258329692818</td>\n",
       "    </tr>\n",
       "    <tr>\n",
       "      <th>4</th>\n",
       "      <td>2017-01-01</td>\n",
       "      <td>2.13011000365963</td>\n",
       "    </tr>\n",
       "  </tbody>\n",
       "</table>\n",
       "</div>"
      ],
      "text/plain": [
       "         date             value\n",
       "0  2021-01-01  4.69785886363739\n",
       "1  2020-01-01  1.23358439630637\n",
       "2  2019-01-01  1.81221007526015\n",
       "3  2018-01-01  2.44258329692818\n",
       "4  2017-01-01  2.13011000365963"
      ]
     },
     "execution_count": 57,
     "metadata": {},
     "output_type": "execute_result"
    }
   ],
   "source": [
    "inflation_df.head()"
   ]
  },
  {
   "cell_type": "markdown",
   "id": "20596252",
   "metadata": {},
   "source": [
    "# Descriptive Statistics about the Data\n",
    "Descriptive statistics include those that summarize the central tendency, dispersion, and shape of a dataset’s distribution, excluding `NaN` values. This should provide high level statistics about our data.\n"
   ]
  },
  {
   "cell_type": "code",
   "execution_count": 52,
   "id": "9575a0a6",
   "metadata": {},
   "outputs": [
    {
     "name": "stdout",
     "output_type": "stream",
     "text": [
      "<class 'pandas.core.frame.DataFrame'>\n",
      "DatetimeIndex: 1096 entries, 2019-01-02 to 2023-05-09\n",
      "Data columns (total 7 columns):\n",
      " #   Column        Non-Null Count  Dtype  \n",
      "---  ------        --------------  -----  \n",
      " 0   Open          1096 non-null   float64\n",
      " 1   High          1096 non-null   float64\n",
      " 2   Low           1096 non-null   float64\n",
      " 3   Close         1096 non-null   float64\n",
      " 4   Adj Close     1096 non-null   float64\n",
      " 5   Volume        1096 non-null   int64  \n",
      " 6   company_name  1096 non-null   object \n",
      "dtypes: float64(5), int64(1), object(1)\n",
      "memory usage: 68.5+ KB\n"
     ]
    }
   ],
   "source": [
    "amazon_df.info()"
   ]
  },
  {
   "cell_type": "markdown",
   "id": "725d2364",
   "metadata": {},
   "source": [
    "Reviewing the content of our data, we can see that the data is numeric(except for the date and company name), aggregated daily and the date is the index of the data. Notice also that weekends and holiday are missing from the records."
   ]
  },
  {
   "cell_type": "code",
   "execution_count": null,
   "id": "6449272c",
   "metadata": {},
   "outputs": [],
   "source": []
  },
  {
   "cell_type": "markdown",
   "id": "3cdf18c4",
   "metadata": {},
   "source": [
    "# Exploratory Data Analysis (EDA)"
   ]
  },
  {
   "cell_type": "markdown",
   "id": "a4919b9f",
   "metadata": {},
   "source": [
    "This include methods like:\n",
    "\n",
    "- Maximize our natural pattern-recognition abilities to extract insights.\n",
    "- Uncover underlying structure (e.g skewness).\n",
    "- Extract important variables and find interesting relations among the variables.\n",
    "- Detect Anomalies.\n"
   ]
  }
 ],
 "metadata": {
  "kernelspec": {
   "display_name": "Python 3",
   "language": "python",
   "name": "python3"
  },
  "language_info": {
   "codemirror_mode": {
    "name": "ipython",
    "version": 3
   },
   "file_extension": ".py",
   "mimetype": "text/x-python",
   "name": "python",
   "nbconvert_exporter": "python",
   "pygments_lexer": "ipython3",
   "version": "3.8.8"
  }
 },
 "nbformat": 4,
 "nbformat_minor": 5
}
