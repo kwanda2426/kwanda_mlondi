{
 "cells": [
  {
   "cell_type": "markdown",
   "id": "a742d492",
   "metadata": {},
   "source": [
    "# Stock Market Analysis \n",
    "\n",
    "<img src=\"https://img.freepik.com/free-vector/gradient-stock-market-concept_23-2149166910.jpg\" width = 800px>"
   ]
  },
  {
   "cell_type": "markdown",
   "id": "4d8a9987",
   "metadata": {},
   "source": [
    "# Introduction"
   ]
  },
  {
   "cell_type": "markdown",
   "id": "d78aad33",
   "metadata": {},
   "source": [
    "Success in any financial market requires one to identify solid investments. When a stock or derivative is undervalued, it makes sense to buy. If it's overvalued, perhaps it's time to sell. While these finance decisions were historically made manually by professionals, technology has ushered in new opportunities for retail investors. Data scientists, specifically, may be interested to explore quantitative trading, where decisions are executed programmatically based on predictions from analysis and trained models.\n",
    "\n",
    "Stocks can be a valuable part of your investment portfolio. Owning stocks in different companies can help you build your savings, protect your money from inflation and taxes, and maximize income from your investments. It's important to know that there are risks when investing in the stock market.\n",
    "\n",
    "Historically, long-term equity returns have been better than returns from cash or fixed-income investments such as bonds. However, stock prices tend to rise and fall over time. Investors may want to consider a long-term perspective for their equity portfolio because these stock-market fluctuations do tend to smooth out over longer periods of time.\n",
    "\n",
    "Taxes and inflation can impact your wealth. Equity investments can give investors better tax treatment over the long term, which can help slow or prevent the negative effects of both taxes and inflation.\n",
    "Some companies pay shareholders dividends or special distributions. These payments can provide you with regular investment income and enhance your return.\n",
    "\n",
    "### S&P 500 - Microsoft\n",
    "\n",
    "As one of the most diversified companies, Microsoft (MSFT -0.65%) has strong positions in operating systems, video games, cloud computing, productivity software, and even social media with LinkedIn. This year, the company will also expand its digital advertising business through a partnership with Netflix. \n",
    "\n",
    "Microsoft's varied revenue streams proved their strength in 2022, with segments less affected by economic challenges able to maintain earnings growth despite declines in specific markets. The company's stock is down 22% year over year. However, its growth of 157% over the last five years proves it is a reliable long-term investment.\n",
    "\n",
    "In mid-January, news broke that Microsoft is considering investing 10USD billion in OpenAI, an artificial intelligence (AI) company best known for its AI chatbot ChatGPT. The deal would expand Microsoft's stake in the company after it initially invested 1USD billion in 2019. Microsoft has a share in the company and now ChatGPT has a paid for service to access the Chatbot. This will increase it's revenue. \n",
    "\n",
    "### S&P 500 - Amazon\n",
    "\n",
    "Brand Finance recognized Amazon as the most valuable brand in the world in 2023. That distinction highlights the tremendous popularity its marketplace enjoys among consumers. Indeed, Amazon draws more visitors each month than any other digital shopping destination, and it accounted for 38% of online retail sales in North America and Western Europe last year. Its Prime membership program creates even more value for consumers, and its massive logistics network adds value for merchants, accelerating the network effects inherent to its business model.\n",
    "\n",
    "Looking ahead, Ameco Research estimates that global e-commerce sales will grow at 13.6% annually to reach 15USD trillion by 2030. Amazon is exceptionally well positioned to benefit from that trend.\n",
    "\n",
    "Amazon Web Services (AWS) was the first hyperscale public cloud, and it still dominates the market for cloud infrastructure and platform services (CIPS). AWS accounted for 32% of CIPS spending in the fourth quarter last year, putting it nine percentage points ahead of the runner-up Microsoft Azure.\n",
    "\n",
    "### Cryptocurrency - Bitcoin\n",
    "\n",
    "The blockchain technology underlying bitcoin and other cryptocurrencies has been hailed as a potential gamechanger for a large number of industries, from shipping and supply chains to banking and healthcare. By removing intermediaries and trusted actors from computer networks, distributed ledgers can facilitate new types of economic activity that were not possible before.\n",
    "\n",
    "This potential makes for an attractive investment to people who believe in the future of digital currencies. For people who believe in that promise, investing in cryptocurrency represents a way to earn high returns while supporting the future of technology.\n",
    "\n",
    "Another common reason to invest in cryptocurrency is the desire for a reliable, long-term store of value. Unlike fiat money, most cryptocurrencies have a limited supply, capped by mathematical algorithms.This makes it impossible for any political body or government agency to dilute their value through inflation. Moreover, due to the cryptographic nature of cryptocurrencies, it is impossible for a government body to tax or confiscate tokens without the cooperation of the owner.\n",
    "\n",
    "Bitcoin has grabbed the attention of the world over the last decade, as it could represent a new form of decentralized money. The ability to have a trustless payment system without a third party intermediary has many people betting on its future being bright.Bitcoin is the fastest growing crypto currency in the world. This makes Bitcoin an important cryptocurrency and a good investment option for you to make for the market.\n",
    "\n",
    "\n",
    "### Inflation\n",
    "\n",
    "Inflation occurs when the supply of money increases relative to the level of productive output in the economy. Prices tend to rise because more dollars are chasing relatively fewer goods. Another way of stating this phenomenon is that the purchasing power of each money unit declines.\n",
    "\n",
    "This means that inflation can have a huge impact on the way we save and invest our money: it can either reduce the value of your investment portfolio over time, or you could possibly use it to your advantage to help your investments grow.\n"
   ]
  },
  {
   "cell_type": "markdown",
   "id": "6187fd48",
   "metadata": {},
   "source": [
    "# **IMPORTING PACKAGES**"
   ]
  },
  {
   "cell_type": "code",
   "execution_count": 1,
   "id": "b14e2f41",
   "metadata": {},
   "outputs": [],
   "source": [
    "# packages to install before running notebook\n",
    "#!pip install -q yfinance\n",
    "#!pip install pandas-datareader\n",
    "#!pip install yahoo-finance"
   ]
  },
  {
   "cell_type": "code",
   "execution_count": 12,
   "id": "77c10384",
   "metadata": {},
   "outputs": [],
   "source": [
    "# for data access and mannipulation\n",
    "import requests\n",
    "import pandas as pd\n",
    "import numpy as np\n",
    "\n",
    "# visualizations\n",
    "import plotly.express as px\n",
    "import plotly.graph_objects as go\n",
    "import matplotlib.pyplot as plt\n",
    "import seaborn as sns\n",
    "\n",
    "#sns.set_style('whitegrid')\n",
    "#plt.style.use(\"fivethirtyeight\")\n",
    "#%matplotlib inline\n",
    "\n",
    "# For reading stock data from yahoo\n",
    "from pandas_datareader.data import DataReader\n",
    "import yfinance as yf\n",
    "from yahoo_finance import Share\n",
    "from yahoo_finance import Currency\n",
    "from pandas_datareader import data as pdr\n",
    "yf.pdr_override()\n",
    "\n",
    "# For time stamps\n",
    "from datetime import datetime\n",
    "\n",
    "#ignoring warnings\n",
    "import warnings\n",
    "warnings.filterwarnings('ignore')\n",
    "%matplotlib inline"
   ]
  },
  {
   "cell_type": "markdown",
   "id": "140eea21",
   "metadata": {},
   "source": [
    "# LOADING DATA"
   ]
  },
  {
   "cell_type": "markdown",
   "id": "30a6823d",
   "metadata": {},
   "source": [
    "Data is extracted from different sources. Yahoo Finance is a rich resource of financial market data and tools to find compelling investments.We use Yahoo Finance API for Microsoft and Amazon Data, and Alpha Vantage API for bitcoin data and inflation data."
   ]
  },
  {
   "cell_type": "markdown",
   "id": "bbc2b403",
   "metadata": {},
   "source": [
    "### MICROSOFT AND AMAZON DATA"
   ]
  },
  {
   "cell_type": "markdown",
   "id": "2ac84ab3",
   "metadata": {},
   "source": [
    "We start from 2029 before the pandemic to see how the market was performing and how the pandemic shaped that moving forward. This will help in decision making to see how sensitive these are/were to the pandemic. "
   ]
  },
  {
   "cell_type": "code",
   "execution_count": 13,
   "id": "5ee37e30",
   "metadata": {},
   "outputs": [],
   "source": [
    "# we specify our start and end date\n",
    "end = datetime.now()\n",
    "start = datetime(2019, 1, 1)"
   ]
  },
  {
   "cell_type": "code",
   "execution_count": 14,
   "id": "430a3fe1",
   "metadata": {},
   "outputs": [
    {
     "name": "stdout",
     "output_type": "stream",
     "text": [
      "[*********************100%***********************]  1 of 1 completed\n",
      "[*********************100%***********************]  1 of 1 completed\n"
     ]
    }
   ],
   "source": [
    "#Amazon data\n",
    "amazon_df = yf.download('AMZN', start, end)\n",
    "amazon_df = amazon_df.reset_index(drop = False)\n",
    "amazon_df['company_name'] = ['AMAZON' for i in range(len(amazon_df))]\n",
    "\n",
    "#Microsoft data\n",
    "msft_df = yf.download('MSFT', start, end)\n",
    "msft_df = msft_df.reset_index(drop = False)\n",
    "msft_df['company_name'] = ['MSFT' for i in range(len(msft_df))]\n"
   ]
  },
  {
   "cell_type": "code",
   "execution_count": 15,
   "id": "8b669dbc",
   "metadata": {},
   "outputs": [
    {
     "data": {
      "text/html": [
       "<div>\n",
       "<style scoped>\n",
       "    .dataframe tbody tr th:only-of-type {\n",
       "        vertical-align: middle;\n",
       "    }\n",
       "\n",
       "    .dataframe tbody tr th {\n",
       "        vertical-align: top;\n",
       "    }\n",
       "\n",
       "    .dataframe thead th {\n",
       "        text-align: right;\n",
       "    }\n",
       "</style>\n",
       "<table border=\"1\" class=\"dataframe\">\n",
       "  <thead>\n",
       "    <tr style=\"text-align: right;\">\n",
       "      <th></th>\n",
       "      <th>Date</th>\n",
       "      <th>Open</th>\n",
       "      <th>High</th>\n",
       "      <th>Low</th>\n",
       "      <th>Close</th>\n",
       "      <th>Adj Close</th>\n",
       "      <th>Volume</th>\n",
       "      <th>company_name</th>\n",
       "    </tr>\n",
       "  </thead>\n",
       "  <tbody>\n",
       "    <tr>\n",
       "      <th>0</th>\n",
       "      <td>2019-01-02</td>\n",
       "      <td>99.550003</td>\n",
       "      <td>101.750000</td>\n",
       "      <td>98.940002</td>\n",
       "      <td>101.120003</td>\n",
       "      <td>96.632668</td>\n",
       "      <td>35329300</td>\n",
       "      <td>MSFT</td>\n",
       "    </tr>\n",
       "    <tr>\n",
       "      <th>1</th>\n",
       "      <td>2019-01-03</td>\n",
       "      <td>100.099998</td>\n",
       "      <td>100.190002</td>\n",
       "      <td>97.199997</td>\n",
       "      <td>97.400002</td>\n",
       "      <td>93.077728</td>\n",
       "      <td>42579100</td>\n",
       "      <td>MSFT</td>\n",
       "    </tr>\n",
       "    <tr>\n",
       "      <th>2</th>\n",
       "      <td>2019-01-04</td>\n",
       "      <td>99.720001</td>\n",
       "      <td>102.510002</td>\n",
       "      <td>98.930000</td>\n",
       "      <td>101.930000</td>\n",
       "      <td>97.406708</td>\n",
       "      <td>44060600</td>\n",
       "      <td>MSFT</td>\n",
       "    </tr>\n",
       "    <tr>\n",
       "      <th>3</th>\n",
       "      <td>2019-01-07</td>\n",
       "      <td>101.639999</td>\n",
       "      <td>103.269997</td>\n",
       "      <td>100.980003</td>\n",
       "      <td>102.059998</td>\n",
       "      <td>97.530952</td>\n",
       "      <td>35656100</td>\n",
       "      <td>MSFT</td>\n",
       "    </tr>\n",
       "    <tr>\n",
       "      <th>4</th>\n",
       "      <td>2019-01-08</td>\n",
       "      <td>103.040001</td>\n",
       "      <td>103.970001</td>\n",
       "      <td>101.709999</td>\n",
       "      <td>102.800003</td>\n",
       "      <td>98.238098</td>\n",
       "      <td>31514400</td>\n",
       "      <td>MSFT</td>\n",
       "    </tr>\n",
       "  </tbody>\n",
       "</table>\n",
       "</div>"
      ],
      "text/plain": [
       "        Date        Open        High         Low       Close  Adj Close   \n",
       "0 2019-01-02   99.550003  101.750000   98.940002  101.120003  96.632668  \\\n",
       "1 2019-01-03  100.099998  100.190002   97.199997   97.400002  93.077728   \n",
       "2 2019-01-04   99.720001  102.510002   98.930000  101.930000  97.406708   \n",
       "3 2019-01-07  101.639999  103.269997  100.980003  102.059998  97.530952   \n",
       "4 2019-01-08  103.040001  103.970001  101.709999  102.800003  98.238098   \n",
       "\n",
       "     Volume company_name  \n",
       "0  35329300         MSFT  \n",
       "1  42579100         MSFT  \n",
       "2  44060600         MSFT  \n",
       "3  35656100         MSFT  \n",
       "4  31514400         MSFT  "
      ]
     },
     "execution_count": 15,
     "metadata": {},
     "output_type": "execute_result"
    }
   ],
   "source": [
    "#How the data looks\n",
    "msft_df.head()"
   ]
  },
  {
   "cell_type": "markdown",
   "id": "7d650edb",
   "metadata": {},
   "source": [
    "Both Datasets are in USD so we need to convert to our ZAR currency. We assume the current conversion rate, **1USD = 18,71ZAR**"
   ]
  },
  {
   "cell_type": "code",
   "execution_count": null,
   "id": "99593e9f",
   "metadata": {},
   "outputs": [],
   "source": [
    "#Microsoft\n",
    "msft_df['Open'] = msft_df['Open']*18.71\n",
    "msft_df['High'] = msft_df['High']*18.71\n",
    "msft_df['Low'] = msft_df['Low']*18.71\n",
    "msft_df['Close'] = msft_df['Close']*18.71\n",
    "msft_df['Adj Close'] = msft_df['Adj Close']*18.71\n",
    "msft_df.head()"
   ]
  },
  {
   "cell_type": "code",
   "execution_count": null,
   "id": "3a8c3b5a",
   "metadata": {},
   "outputs": [],
   "source": [
    "#Amazon\n",
    "amazon_df['Open'] = amazon_df['Open']*18.71\n",
    "amazon_df['High'] = amazon_df['High']*18.71\n",
    "amazon_df['Low'] = amazon_df['Low']*18.71\n",
    "amazon_df['Close'] = amazon_df['Close']*18.71\n",
    "amazon_df['Adj Close'] = amazon_df['Adj Close']*18.71\n",
    "amazon_df.head()"
   ]
  },
  {
   "cell_type": "markdown",
   "id": "1e16b99e",
   "metadata": {},
   "source": [
    "### BITCOIN"
   ]
  },
  {
   "cell_type": "code",
   "execution_count": 32,
   "id": "7a3e654d",
   "metadata": {},
   "outputs": [],
   "source": [
    "# csv downloaded using using api key\n",
    "\n",
    "bitcoin_df = pd.read_csv('currency_monthly_BTC_ZAR.csv')"
   ]
  },
  {
   "cell_type": "code",
   "execution_count": 33,
   "id": "27eb4137",
   "metadata": {},
   "outputs": [
    {
     "data": {
      "text/html": [
       "<div>\n",
       "<style scoped>\n",
       "    .dataframe tbody tr th:only-of-type {\n",
       "        vertical-align: middle;\n",
       "    }\n",
       "\n",
       "    .dataframe tbody tr th {\n",
       "        vertical-align: top;\n",
       "    }\n",
       "\n",
       "    .dataframe thead th {\n",
       "        text-align: right;\n",
       "    }\n",
       "</style>\n",
       "<table border=\"1\" class=\"dataframe\">\n",
       "  <thead>\n",
       "    <tr style=\"text-align: right;\">\n",
       "      <th></th>\n",
       "      <th>timestamp</th>\n",
       "      <th>open (ZAR)</th>\n",
       "      <th>high (ZAR)</th>\n",
       "      <th>low (ZAR)</th>\n",
       "      <th>close (ZAR)</th>\n",
       "      <th>open (USD)</th>\n",
       "      <th>high (USD)</th>\n",
       "      <th>low (USD)</th>\n",
       "      <th>close (USD)</th>\n",
       "      <th>volume</th>\n",
       "      <th>market cap (USD)</th>\n",
       "    </tr>\n",
       "  </thead>\n",
       "  <tbody>\n",
       "    <tr>\n",
       "      <th>0</th>\n",
       "      <td>2023-05-10</td>\n",
       "      <td>545462.863464</td>\n",
       "      <td>556411.976400</td>\n",
       "      <td>508682.203240</td>\n",
       "      <td>515165.466329</td>\n",
       "      <td>29233.20</td>\n",
       "      <td>29820.00</td>\n",
       "      <td>27262.00</td>\n",
       "      <td>27609.46</td>\n",
       "      <td>4.765123e+05</td>\n",
       "      <td>4.765123e+05</td>\n",
       "    </tr>\n",
       "    <tr>\n",
       "      <th>1</th>\n",
       "      <td>2023-04-30</td>\n",
       "      <td>531135.721547</td>\n",
       "      <td>578429.620000</td>\n",
       "      <td>502726.617236</td>\n",
       "      <td>545463.050054</td>\n",
       "      <td>28465.36</td>\n",
       "      <td>31000.00</td>\n",
       "      <td>26942.82</td>\n",
       "      <td>29233.21</td>\n",
       "      <td>1.626746e+06</td>\n",
       "      <td>1.626746e+06</td>\n",
       "    </tr>\n",
       "    <tr>\n",
       "      <th>2</th>\n",
       "      <td>2023-03-31</td>\n",
       "      <td>431799.017461</td>\n",
       "      <td>544557.527814</td>\n",
       "      <td>364766.861292</td>\n",
       "      <td>531135.721547</td>\n",
       "      <td>23141.57</td>\n",
       "      <td>29184.68</td>\n",
       "      <td>19549.09</td>\n",
       "      <td>28465.36</td>\n",
       "      <td>9.516189e+06</td>\n",
       "      <td>9.516189e+06</td>\n",
       "    </tr>\n",
       "    <tr>\n",
       "      <th>3</th>\n",
       "      <td>2023-02-28</td>\n",
       "      <td>431492.263173</td>\n",
       "      <td>471140.255000</td>\n",
       "      <td>398390.042151</td>\n",
       "      <td>431799.017461</td>\n",
       "      <td>23125.13</td>\n",
       "      <td>25250.00</td>\n",
       "      <td>21351.07</td>\n",
       "      <td>23141.57</td>\n",
       "      <td>8.642691e+06</td>\n",
       "      <td>8.642691e+06</td>\n",
       "    </tr>\n",
       "    <tr>\n",
       "      <th>4</th>\n",
       "      <td>2023-01-31</td>\n",
       "      <td>308653.217265</td>\n",
       "      <td>447080.195071</td>\n",
       "      <td>307855.357570</td>\n",
       "      <td>431492.263173</td>\n",
       "      <td>16541.77</td>\n",
       "      <td>23960.54</td>\n",
       "      <td>16499.01</td>\n",
       "      <td>23125.13</td>\n",
       "      <td>7.977029e+06</td>\n",
       "      <td>7.977029e+06</td>\n",
       "    </tr>\n",
       "  </tbody>\n",
       "</table>\n",
       "</div>"
      ],
      "text/plain": [
       "    timestamp     open (ZAR)     high (ZAR)      low (ZAR)    close (ZAR)   \n",
       "0  2023-05-10  545462.863464  556411.976400  508682.203240  515165.466329  \\\n",
       "1  2023-04-30  531135.721547  578429.620000  502726.617236  545463.050054   \n",
       "2  2023-03-31  431799.017461  544557.527814  364766.861292  531135.721547   \n",
       "3  2023-02-28  431492.263173  471140.255000  398390.042151  431799.017461   \n",
       "4  2023-01-31  308653.217265  447080.195071  307855.357570  431492.263173   \n",
       "\n",
       "   open (USD)  high (USD)  low (USD)  close (USD)        volume   \n",
       "0    29233.20    29820.00   27262.00     27609.46  4.765123e+05  \\\n",
       "1    28465.36    31000.00   26942.82     29233.21  1.626746e+06   \n",
       "2    23141.57    29184.68   19549.09     28465.36  9.516189e+06   \n",
       "3    23125.13    25250.00   21351.07     23141.57  8.642691e+06   \n",
       "4    16541.77    23960.54   16499.01     23125.13  7.977029e+06   \n",
       "\n",
       "   market cap (USD)  \n",
       "0      4.765123e+05  \n",
       "1      1.626746e+06  \n",
       "2      9.516189e+06  \n",
       "3      8.642691e+06  \n",
       "4      7.977029e+06  "
      ]
     },
     "execution_count": 33,
     "metadata": {},
     "output_type": "execute_result"
    }
   ],
   "source": [
    "# first 5 rows of df\n",
    "bitcoin_df.head()"
   ]
  },
  {
   "cell_type": "markdown",
   "id": "0bc95822",
   "metadata": {},
   "source": [
    "We will focus on the ZAR currency."
   ]
  },
  {
   "cell_type": "code",
   "execution_count": 34,
   "id": "c2908109",
   "metadata": {},
   "outputs": [
    {
     "data": {
      "text/html": [
       "<div>\n",
       "<style scoped>\n",
       "    .dataframe tbody tr th:only-of-type {\n",
       "        vertical-align: middle;\n",
       "    }\n",
       "\n",
       "    .dataframe tbody tr th {\n",
       "        vertical-align: top;\n",
       "    }\n",
       "\n",
       "    .dataframe thead th {\n",
       "        text-align: right;\n",
       "    }\n",
       "</style>\n",
       "<table border=\"1\" class=\"dataframe\">\n",
       "  <thead>\n",
       "    <tr style=\"text-align: right;\">\n",
       "      <th></th>\n",
       "      <th>timestamp</th>\n",
       "      <th>open (ZAR)</th>\n",
       "      <th>high (ZAR)</th>\n",
       "      <th>low (ZAR)</th>\n",
       "      <th>close (ZAR)</th>\n",
       "      <th>volume</th>\n",
       "    </tr>\n",
       "  </thead>\n",
       "  <tbody>\n",
       "    <tr>\n",
       "      <th>0</th>\n",
       "      <td>2023-05-10</td>\n",
       "      <td>545462.863464</td>\n",
       "      <td>556411.976400</td>\n",
       "      <td>508682.203240</td>\n",
       "      <td>515165.466329</td>\n",
       "      <td>4.765123e+05</td>\n",
       "    </tr>\n",
       "    <tr>\n",
       "      <th>1</th>\n",
       "      <td>2023-04-30</td>\n",
       "      <td>531135.721547</td>\n",
       "      <td>578429.620000</td>\n",
       "      <td>502726.617236</td>\n",
       "      <td>545463.050054</td>\n",
       "      <td>1.626746e+06</td>\n",
       "    </tr>\n",
       "    <tr>\n",
       "      <th>2</th>\n",
       "      <td>2023-03-31</td>\n",
       "      <td>431799.017461</td>\n",
       "      <td>544557.527814</td>\n",
       "      <td>364766.861292</td>\n",
       "      <td>531135.721547</td>\n",
       "      <td>9.516189e+06</td>\n",
       "    </tr>\n",
       "    <tr>\n",
       "      <th>3</th>\n",
       "      <td>2023-02-28</td>\n",
       "      <td>431492.263173</td>\n",
       "      <td>471140.255000</td>\n",
       "      <td>398390.042151</td>\n",
       "      <td>431799.017461</td>\n",
       "      <td>8.642691e+06</td>\n",
       "    </tr>\n",
       "    <tr>\n",
       "      <th>4</th>\n",
       "      <td>2023-01-31</td>\n",
       "      <td>308653.217265</td>\n",
       "      <td>447080.195071</td>\n",
       "      <td>307855.357570</td>\n",
       "      <td>431492.263173</td>\n",
       "      <td>7.977029e+06</td>\n",
       "    </tr>\n",
       "  </tbody>\n",
       "</table>\n",
       "</div>"
      ],
      "text/plain": [
       "    timestamp     open (ZAR)     high (ZAR)      low (ZAR)    close (ZAR)   \n",
       "0  2023-05-10  545462.863464  556411.976400  508682.203240  515165.466329  \\\n",
       "1  2023-04-30  531135.721547  578429.620000  502726.617236  545463.050054   \n",
       "2  2023-03-31  431799.017461  544557.527814  364766.861292  531135.721547   \n",
       "3  2023-02-28  431492.263173  471140.255000  398390.042151  431799.017461   \n",
       "4  2023-01-31  308653.217265  447080.195071  307855.357570  431492.263173   \n",
       "\n",
       "         volume  \n",
       "0  4.765123e+05  \n",
       "1  1.626746e+06  \n",
       "2  9.516189e+06  \n",
       "3  8.642691e+06  \n",
       "4  7.977029e+06  "
      ]
     },
     "execution_count": 34,
     "metadata": {},
     "output_type": "execute_result"
    }
   ],
   "source": [
    "# taking columns with ZAR\n",
    "ZAR = [i for i in bitcoin_df.columns if 'ZAR' in i]\n",
    "cols = ['timestamp'] + ZAR + ['volume']\n",
    "\n",
    "bitcoin_df = bitcoin_df[cols]\n",
    "bitcoin_df.head()"
   ]
  },
  {
   "cell_type": "markdown",
   "id": "10b20da6",
   "metadata": {},
   "source": [
    "Our data now comforms to our currency."
   ]
  },
  {
   "cell_type": "markdown",
   "id": "94b69d14",
   "metadata": {},
   "source": [
    "### INFLATION"
   ]
  },
  {
   "cell_type": "code",
   "execution_count": 21,
   "id": "87e24333",
   "metadata": {},
   "outputs": [],
   "source": [
    "# inflation csv downloaded using using api key\n",
    "\n",
    "inflation_df = pd.read_csv('INFLATION.csv')\n",
    "inflation_df = inflation_df.sort_values(by = 'timestamp')"
   ]
  },
  {
   "cell_type": "code",
   "execution_count": 22,
   "id": "f5a96c28",
   "metadata": {},
   "outputs": [
    {
     "data": {
      "text/html": [
       "<div>\n",
       "<style scoped>\n",
       "    .dataframe tbody tr th:only-of-type {\n",
       "        vertical-align: middle;\n",
       "    }\n",
       "\n",
       "    .dataframe tbody tr th {\n",
       "        vertical-align: top;\n",
       "    }\n",
       "\n",
       "    .dataframe thead th {\n",
       "        text-align: right;\n",
       "    }\n",
       "</style>\n",
       "<table border=\"1\" class=\"dataframe\">\n",
       "  <thead>\n",
       "    <tr style=\"text-align: right;\">\n",
       "      <th></th>\n",
       "      <th>timestamp</th>\n",
       "      <th>value</th>\n",
       "    </tr>\n",
       "  </thead>\n",
       "  <tbody>\n",
       "    <tr>\n",
       "      <th>62</th>\n",
       "      <td>1960-01-01</td>\n",
       "      <td>1.457976</td>\n",
       "    </tr>\n",
       "    <tr>\n",
       "      <th>61</th>\n",
       "      <td>1961-01-01</td>\n",
       "      <td>1.070724</td>\n",
       "    </tr>\n",
       "    <tr>\n",
       "      <th>60</th>\n",
       "      <td>1962-01-01</td>\n",
       "      <td>1.198773</td>\n",
       "    </tr>\n",
       "    <tr>\n",
       "      <th>59</th>\n",
       "      <td>1963-01-01</td>\n",
       "      <td>1.239669</td>\n",
       "    </tr>\n",
       "    <tr>\n",
       "      <th>58</th>\n",
       "      <td>1964-01-01</td>\n",
       "      <td>1.278912</td>\n",
       "    </tr>\n",
       "  </tbody>\n",
       "</table>\n",
       "</div>"
      ],
      "text/plain": [
       "     timestamp     value\n",
       "62  1960-01-01  1.457976\n",
       "61  1961-01-01  1.070724\n",
       "60  1962-01-01  1.198773\n",
       "59  1963-01-01  1.239669\n",
       "58  1964-01-01  1.278912"
      ]
     },
     "execution_count": 22,
     "metadata": {},
     "output_type": "execute_result"
    }
   ],
   "source": [
    "inflation_df.head()"
   ]
  },
  {
   "cell_type": "markdown",
   "id": "20596252",
   "metadata": {},
   "source": [
    "# Descriptive Statistics about the Data\n",
    "Descriptive statistics include those that summarize the central tendency, dispersion, and shape of a dataset’s distribution, excluding `NaN` values. This should provide high level statistics about our data.\n"
   ]
  },
  {
   "cell_type": "code",
   "execution_count": 23,
   "id": "9575a0a6",
   "metadata": {},
   "outputs": [
    {
     "name": "stdout",
     "output_type": "stream",
     "text": [
      "<class 'pandas.core.frame.DataFrame'>\n",
      "RangeIndex: 1096 entries, 0 to 1095\n",
      "Data columns (total 8 columns):\n",
      " #   Column        Non-Null Count  Dtype         \n",
      "---  ------        --------------  -----         \n",
      " 0   Date          1096 non-null   datetime64[ns]\n",
      " 1   Open          1096 non-null   float64       \n",
      " 2   High          1096 non-null   float64       \n",
      " 3   Low           1096 non-null   float64       \n",
      " 4   Close         1096 non-null   float64       \n",
      " 5   Adj Close     1096 non-null   float64       \n",
      " 6   Volume        1096 non-null   int64         \n",
      " 7   company_name  1096 non-null   object        \n",
      "dtypes: datetime64[ns](1), float64(5), int64(1), object(1)\n",
      "memory usage: 68.6+ KB\n"
     ]
    }
   ],
   "source": [
    "amazon_df.info()"
   ]
  },
  {
   "cell_type": "markdown",
   "id": "725d2364",
   "metadata": {},
   "source": [
    "Reviewing the content of our data, we can see that the data is numeric(except for the date and company name), aggregated daily and the date is the index of the data. Notice also that weekends and holiday are missing from the records."
   ]
  },
  {
   "cell_type": "code",
   "execution_count": 24,
   "id": "6449272c",
   "metadata": {},
   "outputs": [
    {
     "name": "stdout",
     "output_type": "stream",
     "text": [
      "<class 'pandas.core.frame.DataFrame'>\n",
      "RangeIndex: 1096 entries, 0 to 1095\n",
      "Data columns (total 8 columns):\n",
      " #   Column        Non-Null Count  Dtype         \n",
      "---  ------        --------------  -----         \n",
      " 0   Date          1096 non-null   datetime64[ns]\n",
      " 1   Open          1096 non-null   float64       \n",
      " 2   High          1096 non-null   float64       \n",
      " 3   Low           1096 non-null   float64       \n",
      " 4   Close         1096 non-null   float64       \n",
      " 5   Adj Close     1096 non-null   float64       \n",
      " 6   Volume        1096 non-null   int64         \n",
      " 7   company_name  1096 non-null   object        \n",
      "dtypes: datetime64[ns](1), float64(5), int64(1), object(1)\n",
      "memory usage: 68.6+ KB\n"
     ]
    }
   ],
   "source": [
    "msft_df.info()"
   ]
  },
  {
   "cell_type": "markdown",
   "id": "36718f3d",
   "metadata": {},
   "source": [
    "Both Data sets have equal number of rows because we chose the same time frame."
   ]
  },
  {
   "cell_type": "markdown",
   "id": "3cdf18c4",
   "metadata": {},
   "source": [
    "# Exploratory Data Analysis (EDA)"
   ]
  },
  {
   "cell_type": "markdown",
   "id": "a4919b9f",
   "metadata": {},
   "source": [
    "This include methods like:\n",
    "\n",
    "- Maximize our natural pattern-recognition abilities to extract insights.\n",
    "- Uncover underlying structure (e.g skewness).\n",
    "- Extract important variables and find interesting relations among the variables.\n",
    "- Detect Anomalies.\n"
   ]
  },
  {
   "cell_type": "code",
   "execution_count": null,
   "id": "4b1f8811",
   "metadata": {},
   "outputs": [],
   "source": []
  }
 ],
 "metadata": {
  "kernelspec": {
   "display_name": "Python 3",
   "language": "python",
   "name": "python3"
  },
  "language_info": {
   "codemirror_mode": {
    "name": "ipython",
    "version": 3
   },
   "file_extension": ".py",
   "mimetype": "text/x-python",
   "name": "python",
   "nbconvert_exporter": "python",
   "pygments_lexer": "ipython3",
   "version": "3.8.8"
  }
 },
 "nbformat": 4,
 "nbformat_minor": 5
}
